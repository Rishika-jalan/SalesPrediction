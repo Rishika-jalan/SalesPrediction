{
  "nbformat": 4,
  "nbformat_minor": 0,
  "metadata": {
    "colab": {
      "provenance": []
    },
    "kernelspec": {
      "name": "python3",
      "display_name": "Python 3"
    },
    "language_info": {
      "name": "python"
    }
  },
  "cells": [
    {
      "cell_type": "code",
      "source": [
        "import requests\n",
        "\n",
        "# NOTE: you must manually set API_KEY below using information retrieved from your IBM Cloud account (https://eu-de.dataplatform.cloud.ibm.com/docs/content/wsj/analyze-data/ml-authentication.html?context=cpdaas)\n",
        "API_KEY = \"UjJcOnBu8BIQaL4C17halv4G8CN3MQnIRnPeIOnoIOLG\"\n",
        "token_response = requests.post('https://iam.cloud.ibm.com/identity/token', data={\"apikey\": API_KEY, \"grant_type\": 'urn:ibm:params:oauth:grant-type:apikey'})\n",
        "mltoken = token_response.json()[\"access_token\"]\n",
        "\n",
        "header = {'Content-Type': 'application/json', 'Authorization': 'Bearer ' + mltoken}\n",
        "\n",
        "# NOTE:  manually define and pass the array(s) of values to be scored in the next line\n",
        "payload_scoring = {\"input_data\": [\n",
        "\t{\n",
        "\t\t\"fields\": [\"Item_Identifier\",\"Item_Weight\",\"Item_Fat_Content\",\"Item_Visibility\",\"Item_Type\",\"Item_MRP\",\"Outlet_Identifier\",\"Outlet_Establishment_Year\",\"Outlet_Size\",\"Outlet_Location_Type\",\"Outlet_Type\"],\n",
        "\t\t\"values\": [\n",
        "\t\t\t\t [\"FDA15\", 9.3, \"Low Fat\", 0.016047, \"Dairy\", 249.8092, \"OUT049\", 1999, \"Medium\", \"Tier 1\", \"Supermarket Type1\"],\n",
        "         [\"DRC01\", 5.92, \"Regular\", 0.019278, \"Soft Drinks\", 48.2692, \"OUT018\", 2009, \"Medium\", \"Tier 3\", \"Supermarket Type2\"],\n",
        "         [\"FDN15\", 17.5, \"Low Fat\", 0.016760, \"Meat\", 141.6180, \"OUT049\", 1999, \"Medium\", \"Tier 1\", \"Supermarket Type1\"],\n",
        "         [\"FDX07\", 19.2, \"Regular\", 0.000000, \"Household\", 182.0950, \"OUT010\", 1998, \"Small\", \"Tier 3\", \"Grocery Store\"],\n",
        "         [\"NCD19\", 8.93, \"Low Fat\", 0.000000, \"Baking Goods\", 53.8614, \"OUT013\", 1987, \"High\", \"Tier 3\", \"Supermarket Type1\"],\n",
        "         [\"FDP36\", 10.395, \"Regular\", 0.124952, \"Snack Foods\", 51.4008, \"OUT027\", 1985, \"Medium\", \"Tier 3\", \"Supermarket Type3\"],\n",
        "         [\"FDO10\", 13.65, \"Low Fat\", 0.149963, \"Frozen Foods\", 57.6588, \"OUT045\", 2002, \"Small\", \"Tier 2\", \"Supermarket Type1\"],\n",
        "         [\"FDH17\", 16.2, \"Low Fat\", 0.054447, \"Dairy\", 107.7622, \"OUT017\", 2007, \"Medium\", \"Tier 2\", \"Supermarket Type2\"],\n",
        "         [\"FDG33\", 15.3, \"Regular\", 0.046845, \"Canned\", 162.4160, \"OUT035\", 2004, \"Small\", \"Tier 1\", \"Supermarket Type1\"],\n",
        "         [\"FDM33\", 18.5, \"Low Fat\", 0.035685, \"Breads\", 163.5254, \"OUT046\", 1997, \"High\", \"Tier 2\", \"Supermarket Type1\"],\n",
        "\n",
        "\t\t]\n",
        "\t}\n",
        "]}\n",
        "\n",
        "response_scoring = requests.post('https://eu-de.ml.cloud.ibm.com/ml/v4/deployments/b1cb66f7-bc57-43b3-8d9f-7d08ae9bec47/predictions?version=2021-05-01', json=payload_scoring,\n",
        " headers={'Authorization': 'Bearer ' + mltoken})\n",
        "\n",
        "print(\"Scoring response\")\n",
        "try:\n",
        "    print(response_scoring.json())\n",
        "except ValueError:\n",
        "    print(response_scoring.text)\n",
        "except Exception as e:\n",
        "    print(f\"An unexpected error occurred: {e}\")"
      ],
      "metadata": {
        "id": "6kNbs6c3qYeY",
        "colab": {
          "base_uri": "https://localhost:8080/"
        },
        "outputId": "6939f89b-aebf-47e3-8e39-6c6568d6c555"
      },
      "execution_count": null,
      "outputs": [
        {
          "output_type": "stream",
          "name": "stdout",
          "text": [
            "Scoring response\n",
            "{'predictions': [{'fields': ['prediction'], 'values': [[3910.720648871528], [735.0598836263022], [1944.679779730903], [471.5779534233941], [842.7922526041667], [1497.1166883680555], [845.6938802083333], [1667.1262532552084], [2749.3536458333333], [2715.7605468750003]]}]}\n"
          ]
        }
      ]
    },
    {
      "cell_type": "code",
      "source": [],
      "metadata": {
        "id": "0hJgMF_UtNwV"
      },
      "execution_count": null,
      "outputs": []
    }
  ]
}